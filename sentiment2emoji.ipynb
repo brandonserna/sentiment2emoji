{
 "cells": [
  {
   "cell_type": "markdown",
   "metadata": {},
   "source": [
    "# Sentiment2Emoji\n",
    "\n",
    "Quick notebook to create the ml models and serialize them for the web app. "
   ]
  },
  {
   "cell_type": "code",
   "execution_count": 1,
   "metadata": {},
   "outputs": [],
   "source": [
    "import pandas as pd\n",
    "import matplotlib.pyplot as plt\n",
    "from sklearn.feature_extraction.text import TfidfVectorizer\n",
    "from sklearn.ensemble import RandomForestClassifier, GradientBoostingClassifier\n",
    "from sklearn.naive_bayes import MultinomialNB\n",
    "from sklearn.model_selection import cross_val_score\n",
    "import numpy as np\n",
    "\n",
    "%matplotlib inline"
   ]
  },
  {
   "cell_type": "markdown",
   "metadata": {},
   "source": [
    "## Data Prep"
   ]
  },
  {
   "cell_type": "code",
   "execution_count": 13,
   "metadata": {},
   "outputs": [
    {
     "name": "stderr",
     "output_type": "stream",
     "text": [
      "/Users/brandon/anaconda/envs/sentiment2emoji/lib/python3.6/site-packages/ipykernel_launcher.py:4: SettingWithCopyWarning: \n",
      "A value is trying to be set on a copy of a slice from a DataFrame.\n",
      "Try using .loc[row_indexer,col_indexer] = value instead\n",
      "\n",
      "See the caveats in the documentation: http://pandas.pydata.org/pandas-docs/stable/indexing.html#indexing-view-versus-copy\n",
      "  after removing the cwd from sys.path.\n",
      "/Users/brandon/anaconda/envs/sentiment2emoji/lib/python3.6/site-packages/ipykernel_launcher.py:10: SettingWithCopyWarning: \n",
      "A value is trying to be set on a copy of a slice from a DataFrame.\n",
      "Try using .loc[row_indexer,col_indexer] = value instead\n",
      "\n",
      "See the caveats in the documentation: http://pandas.pydata.org/pandas-docs/stable/indexing.html#indexing-view-versus-copy\n",
      "  # Remove the CWD from sys.path while we load stuff.\n",
      "/Users/brandon/anaconda/envs/sentiment2emoji/lib/python3.6/site-packages/ipykernel_launcher.py:16: SettingWithCopyWarning: \n",
      "A value is trying to be set on a copy of a slice from a DataFrame.\n",
      "Try using .loc[row_indexer,col_indexer] = value instead\n",
      "\n",
      "See the caveats in the documentation: http://pandas.pydata.org/pandas-docs/stable/indexing.html#indexing-view-versus-copy\n",
      "  app.launch_new_instance()\n",
      "/Users/brandon/anaconda/envs/sentiment2emoji/lib/python3.6/site-packages/ipykernel_launcher.py:22: SettingWithCopyWarning: \n",
      "A value is trying to be set on a copy of a slice from a DataFrame.\n",
      "Try using .loc[row_indexer,col_indexer] = value instead\n",
      "\n",
      "See the caveats in the documentation: http://pandas.pydata.org/pandas-docs/stable/indexing.html#indexing-view-versus-copy\n",
      "/Users/brandon/anaconda/envs/sentiment2emoji/lib/python3.6/site-packages/ipykernel_launcher.py:28: SettingWithCopyWarning: \n",
      "A value is trying to be set on a copy of a slice from a DataFrame.\n",
      "Try using .loc[row_indexer,col_indexer] = value instead\n",
      "\n",
      "See the caveats in the documentation: http://pandas.pydata.org/pandas-docs/stable/indexing.html#indexing-view-versus-copy\n",
      "/Users/brandon/anaconda/envs/sentiment2emoji/lib/python3.6/site-packages/ipykernel_launcher.py:34: SettingWithCopyWarning: \n",
      "A value is trying to be set on a copy of a slice from a DataFrame.\n",
      "Try using .loc[row_indexer,col_indexer] = value instead\n",
      "\n",
      "See the caveats in the documentation: http://pandas.pydata.org/pandas-docs/stable/indexing.html#indexing-view-versus-copy\n"
     ]
    }
   ],
   "source": [
    "# Anger\n",
    "df = pd.read_csv('./data/StackOverflowCSV/anger.csv', delimiter=';')\n",
    "anger = df.loc[df['label'] == 'YES']\n",
    "anger['label'] = 'anger'  # change label\n",
    "del anger['id']  # drop column\n",
    "\n",
    "# Fear\n",
    "df = pd.read_csv('./data/StackOverflowCSV/fear.csv', delimiter=';')\n",
    "fear = df.loc[df['label'] == 'YES']\n",
    "fear['label'] = 'fear'  # change label\n",
    "del fear['id']  # drop column\n",
    "\n",
    "# Joy\n",
    "df = pd.read_csv('./data/StackOverflowCSV/joy.csv', delimiter=';')\n",
    "joy = df.loc[df['label'] == 'YES']\n",
    "joy['label'] = 'joy'  # change label\n",
    "del joy['id']  # drop column\n",
    "\n",
    "# Love\n",
    "df = pd.read_csv('./data/StackOverflowCSV/love.csv', delimiter=';')\n",
    "love = df.loc[df['label'] == 'YES']\n",
    "love['label'] = 'love'  # change label\n",
    "del love['id']  # drop column\n",
    "\n",
    "# Sad\n",
    "df = pd.read_csv('./data/StackOverflowCSV/sadness.csv', delimiter=';')\n",
    "sad = df.loc[df['label'] == 'YES']\n",
    "sad['label'] = 'sad'  # change label\n",
    "del sad['id']  # drop column\n",
    "\n",
    "# Surprise\n",
    "df = pd.read_csv('./data/StackOverflowCSV/surprise.csv', delimiter=';')\n",
    "surprised = df.loc[df['label'] == 'YES']\n",
    "surprised['label'] = 'surprised'  # change label\n",
    "del surprised['id']  # drop column"
   ]
  },
  {
   "cell_type": "code",
   "execution_count": 14,
   "metadata": {},
   "outputs": [
    {
     "data": {
      "text/plain": [
       "<matplotlib.axes._subplots.AxesSubplot at 0x11b0d4f60>"
      ]
     },
     "execution_count": 14,
     "metadata": {},
     "output_type": "execute_result"
    },
    {
     "data": {
      "image/png": "[encoded data removed]",
      "text/plain": [
       "<matplotlib.figure.Figure at 0x11c786cf8>"
      ]
     },
     "metadata": {},
     "output_type": "display_data"
    }
   ],
   "source": [
    "all = [anger, fear, joy, sad, love, surprised]\n",
    "\n",
    "df = pd.concat(all)\n",
    "df['label'].value_counts().plot(kind='bar')"
   ]
  },
  {
   "cell_type": "markdown",
   "metadata": {},
   "source": [
    "## Model"
   ]
  },
  {
   "cell_type": "code",
   "execution_count": 15,
   "metadata": {},
   "outputs": [],
   "source": [
    "vectorizer = TfidfVectorizer()\n",
    "x_train = vectorizer.fit_transform(df['text'])"
   ]
  },
  {
   "cell_type": "code",
   "execution_count": 16,
   "metadata": {},
   "outputs": [
    {
     "name": "stdout",
     "output_type": "stream",
     "text": [
      "Random Forest classifer Mean CV accuracy: 0.68\n",
      "Gradient boosting classifer Mean CV accuracy: 0.73\n",
      "Naive Bayes classifer Mean CV accuracy: 0.60\n"
     ]
    }
   ],
   "source": [
    "scores = cross_val_score(RandomForestClassifier(n_estimators=100), x_train, df['label'], cv=5)\n",
    "print('Random Forest classifer Mean CV accuracy: {:.2f}'.format(np.mean(scores)))\n",
    "\n",
    "scores = cross_val_score(GradientBoostingClassifier(), x_train, df['label'], cv=5)\n",
    "print('Gradient boosting classifer Mean CV accuracy: {:.2f}'.format(np.mean(scores)))\n",
    "\n",
    "scores = cross_val_score(MultinomialNB(), x_train, df['label'], cv=5)\n",
    "print('Naive Bayes classifer Mean CV accuracy: {:.2f}'.format(np.mean(scores)))"
   ]
  },
  {
   "cell_type": "code",
   "execution_count": 17,
   "metadata": {},
   "outputs": [],
   "source": [
    "clf = GradientBoostingClassifier().fit(x_train, df['label'])"
   ]
  },
  {
   "cell_type": "code",
   "execution_count": 18,
   "metadata": {},
   "outputs": [
    {
     "data": {
      "text/plain": [
       "array(['anger'], dtype=object)"
      ]
     },
     "execution_count": 18,
     "metadata": {},
     "output_type": "execute_result"
    }
   ],
   "source": [
    "test = vectorizer.transform(['I hated that movie!'])\n",
    "clf.predict(test)"
   ]
  },
  {
   "cell_type": "markdown",
   "metadata": {},
   "source": [
    "### Save for later"
   ]
  },
  {
   "cell_type": "code",
   "execution_count": null,
   "metadata": {},
   "outputs": [],
   "source": [
    "import pickle\n",
    "pickle.dump(clf, open('gb_model.sklearn', 'wb'))\n",
    "pickle.dump(vectorizer, open('tfidf.sklearn', 'wb'))"
   ]
  },
  {
   "cell_type": "code",
   "execution_count": null,
   "metadata": {},
   "outputs": [],
   "source": [
    "joblib.dump(vectorizer, 'tfidf.sklearn')"
   ]
  },
  {
   "cell_type": "code",
   "execution_count": null,
   "metadata": {},
   "outputs": [],
   "source": [
    "df['label'].value_counts()"
   ]
  }
 ],
 "metadata": {
  "kernelspec": {
   "display_name": "Python 3",
   "language": "python",
   "name": "python3"
  },
  "language_info": {
   "codemirror_mode": {
    "name": "ipython",
    "version": 3
   },
   "file_extension": ".py",
   "mimetype": "text/x-python",
   "name": "python",
   "nbconvert_exporter": "python",
   "pygments_lexer": "ipython3",
   "version": "3.6.4"
  }
 },
 "nbformat": 4,
 "nbformat_minor": 2
}
